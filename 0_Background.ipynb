{
 "cells": [
  {
   "cell_type": "markdown",
   "metadata": {},
   "source": [
    "# Part 0: Python and JupyterLab\n",
    "\n",
    "Assistants: Xing Wang & Moloud Kaviani\n",
    "\n",
    "Room:\tN216\n",
    "\n",
    "Phone:\t031 631 56 25\n",
    "\n",
    "Email:\txing.wang@dcb.unibe.ch, moloud.kaviani@dcb.unibe.ch  \n",
    "\n",
    "The practical will be carried out in room N212 starting from 9:00"
   ]
  },
  {
   "cell_type": "markdown",
   "metadata": {},
   "source": [
    "## 1. Introduction\n",
    "\n",
    "This section will give a very brief introduction to the work environment, the Python language and JupyterLab.\n",
    "\n",
    "\n"
   ]
  },
  {
   "cell_type": "markdown",
   "metadata": {},
   "source": [
    "\n",
    "## 2. Setting up your environment\n",
    "Start by installing the python packages used for our computational experiment.\n",
    "\n",
    "* **ase**: a python working environment for atomic simulation, including setting up atomic structure and running simulation with different codes. https://wiki.fysik.dtu.dk/ase/index.html\n",
    "\n",
    "* **xespresso**: a Python interface for using Quantum ESPRESSO in ASE. https://github.com/superstar54/xespresso\n",
    "* **x3dase**. a Python module for drawing and rendering atoms and molecules objects using your webpage. X3dase can be used as a viewer for the atomic structure in the Jupyter notebook. https://github.com/superstar54/x3dase\n",
    "\n",
    "Please open a terminal in the menu.\n",
    "\n",
    "`File`->`New`->`Terminal`\n",
    "\n",
    "Go to your working folder, run the following commands:\n",
    "\n",
    "`cd ~/pc2-practical-cc`\n",
    "\n",
    "`ls`\n",
    "\n",
    "and you will see a file called **set_espress.sh**. Now run the following command to set up the xespresso.\n",
    "\n",
    "`sh set_espresso.sh ` "
   ]
  },
  {
   "cell_type": "markdown",
   "metadata": {},
   "source": [
    "## 2. Executing Python code in Jupyter notebooks\n",
    "\n",
    "There are two working modes for the cell: code and markdown. By default a cell is set for code, but just type `Esc+M` to change it to markdown mode. You can double click the markdown mode cell to edit it. Please double click here to see the raw text in this cell. and press `Ctrl + Enter` to run this cell. \n",
    "\n",
    "Other running methods:\n",
    "* `Alt+Enter` runs the currently selected cell and inserts a new cell immediately below\n",
    "\n"
   ]
  },
  {
   "cell_type": "markdown",
   "metadata": {},
   "source": [
    "## 3. Python Basics\n",
    "This notebook is intended to convey some very basic information about how Python works. Enjoy! \n",
    "\n",
    "It is traditional to start with printing Hello World!"
   ]
  },
  {
   "cell_type": "code",
   "execution_count": null,
   "metadata": {},
   "outputs": [],
   "source": [
    "print(\"Hello world! 😂\")\n",
    "print('1')\n",
    "x = 1\n",
    "print('x = :', x)"
   ]
  },
  {
   "cell_type": "markdown",
   "metadata": {},
   "source": [
    "### 3.1 Comment line\n",
    "Sentence start with `#` or inside '''  ''' is used for comment, and will not be run."
   ]
  },
  {
   "cell_type": "code",
   "execution_count": null,
   "metadata": {},
   "outputs": [],
   "source": [
    "# print(\"Hello world! 😂\")\n",
    "# print(1)"
   ]
  },
  {
   "cell_type": "markdown",
   "metadata": {},
   "source": [
    "### 3.2 Data type\n",
    "Some predefined data types in Python:\n",
    "\n",
    "|type| example|\n",
    "|-|-|\n",
    "int | 1\n",
    "float | 0.1\n",
    "string | 'abc'\n",
    "list | [1, 3, 6]\n",
    "dictionary | {'key': value, 'name': 'Bob', 'age': 20}\n",
    "\n",
    "\n",
    "We can change a string by adding a format. For example"
   ]
  },
  {
   "cell_type": "code",
   "execution_count": null,
   "metadata": {},
   "outputs": [],
   "source": [
    "name = 'Bob'\n",
    "age = 20\n",
    "#print('Name is {0}, and age is {1}'.format(name, age))\n",
    "\n",
    "people = {\n",
    "'name': 'Bob', \n",
    "'age': 20,\n",
    "'number': 73333333,\n",
    "}\n",
    "print(people)"
   ]
  },
  {
   "cell_type": "markdown",
   "metadata": {},
   "source": [
    "Lists are indexed by integer numbers, starting at 0. For example"
   ]
  },
  {
   "cell_type": "code",
   "execution_count": null,
   "metadata": {},
   "outputs": [],
   "source": [
    "fruits = ['🍎', '🍐', '🍌', '🍓']\n",
    "print(fruits[0])"
   ]
  },
  {
   "cell_type": "code",
   "execution_count": null,
   "metadata": {},
   "outputs": [],
   "source": [
    "names = ['bob', 'xing']\n",
    "a = [1, 2, 3, 4]\n",
    "print('the first element in a is: ', a[1])"
   ]
  },
  {
   "cell_type": "markdown",
   "metadata": {},
   "source": [
    "Dictionary can be read using the `key`, for examle"
   ]
  },
  {
   "cell_type": "code",
   "execution_count": null,
   "metadata": {},
   "outputs": [],
   "source": [
    "people = {\n",
    "    'name': 'Bob', \n",
    "    'age': 20,\n",
    "}\n",
    "print(people['name'])"
   ]
  },
  {
   "cell_type": "markdown",
   "metadata": {},
   "source": [
    "### 3.3 Loops\n",
    "A loop in Python can be done like this:"
   ]
  },
  {
   "cell_type": "code",
   "execution_count": null,
   "metadata": {},
   "outputs": [],
   "source": [
    "for i in [0, 1, 2, 3]:\n",
    "    print(\"The {0}th fruit is: \".format(i), fruits[i])"
   ]
  },
  {
   "cell_type": "code",
   "execution_count": null,
   "metadata": {},
   "outputs": [],
   "source": [
    "for x in [1, 2, 3, 4]:\n",
    "    y = x*x\n",
    "    print('x = ', x, '   y = ', y)"
   ]
  },
  {
   "cell_type": "markdown",
   "metadata": {},
   "source": [
    "if condition"
   ]
  },
  {
   "cell_type": "code",
   "execution_count": null,
   "metadata": {},
   "outputs": [],
   "source": [
    "x = 2\n",
    "if x == 1:\n",
    "    print('Yes x is 1')\n",
    "else:\n",
    "    print(\"No, x is {0}\".format(x))"
   ]
  },
  {
   "cell_type": "markdown",
   "metadata": {},
   "source": [
    "### 3.4 Functions\n",
    "Functions are called with function_name(argument1, argument2, ...). Can we define our own functions? Absolutely."
   ]
  },
  {
   "cell_type": "code",
   "execution_count": null,
   "metadata": {},
   "outputs": [],
   "source": [
    "def my_sum(a, b):\n",
    "    \"\"\"Function adding two numbers\"\"\"\n",
    "    c = a + b\n",
    "    return c\n",
    "\n",
    "for i in [1, 2, 3]:\n",
    "    c = my_sum(i, 2)\n",
    "    print('i=', i, 'i+2 = ', c)\n",
    "\n"
   ]
  },
  {
   "cell_type": "code",
   "execution_count": null,
   "metadata": {},
   "outputs": [],
   "source": [
    "# y = x + x**2 + x**3\n",
    "def calculate_y(x):\n",
    "    y = x + x**2 + x**3\n",
    "    return y\n",
    "y = calculate_y(10)\n",
    "print(y)"
   ]
  },
  {
   "cell_type": "markdown",
   "metadata": {},
   "source": [
    "### 3.5 Class\n",
    "You can think of a class as a template for creating user defined objects, which including data and functions.\n",
    "\n",
    "A class is defined like this:\n"
   ]
  },
  {
   "cell_type": "code",
   "execution_count": null,
   "metadata": {},
   "outputs": [],
   "source": [
    "class People:\n",
    "    def __init__(self, name, age, number = None):\n",
    "        self.name = name         # data in the class\n",
    "        self.age = age\n",
    "        self.number = number\n",
    "    def print_info(self):        # function in the class\n",
    "        print('name : ', self.name)\n",
    "        print('age  : ', self.age)\n",
    "        if self.number is not None:\n",
    "            print('number : ', self.number)\n",
    "x = People('Bob', 30, 100000)\n",
    "x.print_info()"
   ]
  },
  {
   "cell_type": "markdown",
   "metadata": {},
   "source": [
    "### 3.5 import\n",
    "To use any package in your code, you must first make it accessible. You have to import it. "
   ]
  },
  {
   "cell_type": "code",
   "execution_count": null,
   "metadata": {},
   "outputs": [],
   "source": [
    "from math import pi, sqrt\n",
    "print('pi = ', pi)\n",
    "print('Root of 4 is ', sqrt(4))\n"
   ]
  },
  {
   "cell_type": "code",
   "execution_count": null,
   "metadata": {},
   "outputs": [],
   "source": [
    "\n",
    "from datetime import datetime\n",
    "print('Time is ', datetime.now())"
   ]
  },
  {
   "cell_type": "markdown",
   "metadata": {},
   "source": [
    "## 3.6 plot figure"
   ]
  },
  {
   "cell_type": "code",
   "execution_count": null,
   "metadata": {},
   "outputs": [],
   "source": [
    "from matplotlib import pyplot\n",
    "import numpy as np\n",
    "x = np.linspace(-4, 4, 50)\n",
    "y = x**2\n",
    "\n",
    "pyplot.plot(x, y)\n",
    "pyplot.show()"
   ]
  }
 ],
 "metadata": {
  "kernelspec": {
   "display_name": "Python 3",
   "language": "python",
   "name": "python3"
  },
  "language_info": {
   "codemirror_mode": {
    "name": "ipython",
    "version": 3
   },
   "file_extension": ".py",
   "mimetype": "text/x-python",
   "name": "python",
   "nbconvert_exporter": "python",
   "pygments_lexer": "ipython3",
   "version": "3.8.5"
  }
 },
 "nbformat": 4,
 "nbformat_minor": 4
}
