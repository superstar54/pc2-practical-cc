{
 "cells": [
  {
   "cell_type": "markdown",
   "metadata": {},
   "source": [
    "## Part 3: Adsorption\n",
    "Assistants: Xing Wang & Moloud Kaviani\n",
    "\n",
    "Room:\tN216\n",
    "\n",
    "Phone:\t031 631 56 25\n",
    "\n",
    "Email:\txing.wang@dcb.unibe.ch, moloud.kaviani@dcb.unibe.ch  "
   ]
  },
  {
   "cell_type": "markdown",
   "metadata": {},
   "source": [
    "### 1. Introduction\n",
    "We will now put oxygen in different places and configurations on the platinum surface. For this, identify the adsorption sites as shown in Figure 1. These sites can directly be used for adsorption of atomic O. \n",
    "\n",
    "<img src=\"images/pt-111.png\"  width=\"300\">\n",
    "\n",
    "Figure 1: Top view of the adsorption sites on a {111} face-centered cubic surface"
   ]
  },
  {
   "cell_type": "markdown",
   "metadata": {},
   "source": [
    "### 2. Dissociative adsorption\n",
    "Place the O atoms about 1Å above the surface sites. Create the following calculations:\n",
    "* O at the top site\n",
    "* O at the bridge site\n",
    "* O at the fcc hollow site\n",
    "* O at the hcp hollow site\n",
    "\n",
    "In the atomic structure, we kept the bottom two Pt layers fixed at their bulk positions, which is an (admittedly pretty drastic) approximation of the surface of a very large solid.\n",
    "\n",
    "Each calculation will take a long time (10~20 min), therefore we will not run the calculation one by one using a normal `for` loop. Instead, a `mypool` function was used to sumbit all the calculations at the same time, thus all jobs will run parallelly. \n",
    "\n",
    "#todo: set the ecutwfc and kpts by yourself."
   ]
  },
  {
   "cell_type": "code",
   "execution_count": null,
   "metadata": {},
   "outputs": [],
   "source": [
    "from ase.build import fcc111, add_adsorbate\n",
    "from ase.constraints import FixAtoms\n",
    "from ase.atoms import Atoms\n",
    "from xespresso import Espresso\n",
    "from xespresso.tools import mypool\n",
    "from time import sleep\n",
    "\n",
    "\n",
    "pseudopotentials = {\n",
    "    'O': 'O.pbe-n-rrkjus_psl.1.0.0.UPF',\n",
    "    'Pt': 'Pt.pbe-n-rrkjus_psl.1.0.0.UPF',}\n",
    "# The calculation will take long time, thus please ask your assistant for suggesition on which queue should be used.\n",
    "queue = {'ntasks': 40, 'partition': 'empi', 'time': '00:59:00'}\n",
    "# queue = {'ntasks': 16, 'partition': 'all', 'account': 'dcb', 'time': '00:59:00'}\n",
    "\n",
    "#-----------------------------------------------------------------------\n",
    "# build Pt surface\n",
    "pt = fcc111('Pt', size=(2, 2, 3), vacuum=6.0)\n",
    "constraint = FixAtoms(mask=[atom.tag >= 2 for atom in pt])\n",
    "pt.set_constraint(constraint)\n",
    "#-----------------------------------------------------------------------\n",
    "# add oxygen atoms on platinum surfaces, and save the structures into dissociative_jobs\n",
    "o = Atoms('O')\n",
    "dissociative_jobs = {}\n",
    "for site in ['ontop', 'bridge', 'fcc', 'hcp']:\n",
    "    atoms = pt.copy()\n",
    "    ads = o.copy()\n",
    "    add_adsorbate(atoms, ads, height=1.0, position=site)\n",
    "    dissociative_jobs[site] = atoms\n",
    "#-----------------------------------------------------------------------\n",
    "# def a function to run a calculation for one site\n",
    "def run(site, atoms, t):\n",
    "    sleep(t)    # let the code sleep for a random time (in few seconds), to avoid all jobs run at exact time (traffic jam), which is bad for the high performace computing center.\n",
    "    calc = Espresso(label = 'surface/pt-o-{0}'.format(site),\n",
    "                    pseudopotentials = pseudopotentials,\n",
    "                    calculation = 'relax',   # allow atoms to move\n",
    "                    ecutwfc = 40,\n",
    "                    occupations = 'smearing',\n",
    "                    degauss = 0.01,\n",
    "                    nspin = 2,\n",
    "                    input_data = {'input_ntyp':{'starting_magnetization': {'O': 1.0}}},\n",
    "                    kpts = (6, 6, 1),\n",
    "                    queue = queue,\n",
    "                    parallel = '-nk 4')\n",
    "    atoms.calc = calc\n",
    "    atoms.get_potential_energy()\n",
    "    e = atoms.calc.results['energy']\n",
    "    print('{0} {1:3.3f}'.format(site, e))\n",
    "#-----------------------------------------------------------------------\n",
    "# submit the calculation for all site at the same time\n",
    "mypool(dissociative_jobs, run)\n",
    "\n"
   ]
  },
  {
   "cell_type": "markdown",
   "metadata": {},
   "source": [
    "### 3. Molecular adsorption\n",
    "Molecular O$_2$ will adsorb in a geometry where two oxygen atoms are bound to the surface sites, here we will try two most stable geometry: 'top-top' and 'top-fcc'. (we have found those by trying lots of configurations, which we will skip here to not make the practical too long).\n",
    "\n",
    "Let's look at the platinum surface again and chose approximate positions for the oxygen atoms."
   ]
  },
  {
   "cell_type": "code",
   "execution_count": null,
   "metadata": {},
   "outputs": [],
   "source": [
    "from ase.build import fcc111, add_adsorbate\n",
    "from ase.constraints import FixAtoms\n",
    "from ase.atoms import Atoms\n",
    "from x3dase.visualize import view_x3d_n\n",
    "# look at the platinum surface\n",
    "pt = fcc111('Pt', size=(2, 2, 3), vacuum=6.0)\n",
    "constraint = FixAtoms(mask=[atom.tag >= 2 for atom in pt])\n",
    "pt.set_constraint(constraint)\n",
    "view_x3d_n(pt, bond = 1.0, label = True, output = 'htmls/pt-o2.html')"
   ]
  },
  {
   "cell_type": "markdown",
   "metadata": {},
   "source": [
    "Now let's add two oxygen atoms on the 'top-top' and 'top-fcc' sites., #todo: build the atomic structure, `atoms = atoms + o1 + o2`\n",
    "\n",
    "Please measure the distance between the two oxygen atoms, and make sure the two oxygen atoms are not far away from each other, because they are still forming one O$_2$ molecule."
   ]
  },
  {
   "cell_type": "code",
   "execution_count": null,
   "metadata": {},
   "outputs": [],
   "source": [
    "from x3dase.visualize import view_x3d_n\n",
    "#todo buid the structure of O2 adsorption, chose approximate positions for the oxygen atom close to top site.\n",
    "# Our calculation will find the accurate position.\n",
    "\n",
    "molecular_jobs = {}\n",
    "#====================================================\n",
    "# top-top\n",
    "atoms = pt.copy()\n",
    "# add the second one, please set up a position, e.g. [0.5, 0.5, 12.5]\n",
    "o1 = Atoms('O', positions = [[?, ?, ?]])     # 0.6, 0.7, 12.5\n",
    "o2 = Atoms('O', positions = [[?, ?, ?]])     # 1.2, 1.9, 12.5\n",
    "atoms = atoms + o1 + o2\n",
    "molecular_jobs['top-top'] = atoms.copy()\n",
    "view_x3d_n(atoms, bond = 1.0, label = True, output = 'htmls/pt-o2-top-top.html')"
   ]
  },
  {
   "cell_type": "code",
   "execution_count": null,
   "metadata": {},
   "outputs": [],
   "source": [
    "#====================================================\n",
    "# top-fcc\n",
    "atoms = pt.copy()\n",
    "# add the second one, please set up a position, e.g. [0.5, 0.5, 12.5]\n",
    "o1 = Atoms('O', positions = [[?, ?, ?]])    # 0.7, 0.5, 12.3\n",
    "o2 = Atoms('O', positions = [[?, ?, ?]])    # 1.8, 1.0, 12.0\n",
    "atoms = atoms + o1 + o2\n",
    "molecular_jobs['top-fcc'] = atoms.copy()\n",
    "view_x3d_n(atoms, bond = 1.0, label = True, output = 'htmls/pt-o2-top-fcc.html')"
   ]
  },
  {
   "cell_type": "code",
   "execution_count": null,
   "metadata": {},
   "outputs": [],
   "source": [
    "from xespresso import Espresso\n",
    "from xespresso.tools import mypool\n",
    "from time import sleep\n",
    "\n",
    "pseudopotentials = {\n",
    "    'O': 'O.pbe-n-rrkjus_psl.1.0.0.UPF',\n",
    "    'Pt': 'Pt.pbe-n-rrkjus_psl.1.0.0.UPF',}\n",
    "\n",
    "queue = {'ntasks': 20, 'partition': 'empi', 'time': '5:59:00'}           \n",
    "\n",
    "molecular_energies = {}\n",
    "# def a function to run a calculation for one site\n",
    "def run(site, atoms, t):\n",
    "    sleep(t)    # let the code sleep for a random time (in few seconds), to avoid all jobs run at exact time (traffic jam), which is bad for the high performace computing center.\n",
    "    calc = Espresso(label = 'surface/pt-o2-{0}'.format(site),\n",
    "                    pseudopotentials = pseudopotentials,\n",
    "                    calculation = 'relax',   # allow atoms to move\n",
    "                    ecutwfc = 40,\n",
    "                    occupations = 'smearing',\n",
    "                    degauss = 0.01,\n",
    "                    nspin = 2,\n",
    "                    input_data = {'input_ntyp':{'starting_magnetization': {'O': 1.0}}},\n",
    "                    mixing_mode = 'local-TF',\n",
    "                    mixing_beta = 0.5,\n",
    "                    electron_maxstep = 200,\n",
    "                    kpts = (6, 6, 1),\n",
    "                    queue = queue,\n",
    "                    parallel = '-nk 4')\n",
    "    atoms.calc = calc\n",
    "    atoms.get_potential_energy()\n",
    "    e = atoms.calc.results['energy']\n",
    "    print('{0} {1:3.3f}'.format(site, e))\n",
    "    molecular_energies[site] = e\n",
    "# submit the calculation for all site at the same time\n",
    "mypool(molecular_jobs, run)\n",
    "# todo get the magmom on oxygen atoms"
   ]
  },
  {
   "cell_type": "markdown",
   "metadata": {},
   "source": [
    "Does the O$_2$ molecule still have the triplet ground state when adsorbed on the surface? What does this tell you about charge transfers and the charge state of the O$_2$ molecule? Measure the O-O bond length and compare it to the one in O$_2$, O$_2$$^-$ (superoxide) and O$_2$$^{2-}$ (peroxide)."
   ]
  },
  {
   "cell_type": "markdown",
   "metadata": {},
   "source": [
    "### 4. Calculation the adsorption energy\n",
    "The adsorption energy is given by\n",
    "\n",
    "$\\Delta E_{ads} = E_{surf + ads} - (E_{surf} + E_{ads})$\n",
    "\n",
    "where $E_{surf + ads}$ is the energy of the surface with the adsorbate (O or O$_2$), $E_{surf}$ is the energy of the clean surface and $E_{ads}$ is the energy of the adsorbate, which we take as the energy of O$_2$ molecule for the case of O$_2$ and half the energy of O$_2$ molecule for the case of O. A negative value means that there is an energy gain for adsorption, while a positive value means that adsorption is not energetically favorable.\n",
    "\n",
    "Is O adsorption energetically favored to O$_2$ formation at all sites? If you have sites with a positive adsorption energy (unfavorable adsorption), exclude them from further analysis. Do all adsorbed species stay at the sites where you put them (similar adsorption energies can hint at same final sites). If you have same sites, discard the ones that did not stay at their initial site from further analysis."
   ]
  },
  {
   "cell_type": "code",
   "execution_count": null,
   "metadata": {},
   "outputs": [],
   "source": [
    "#todo, please use the energies you got from the previous calculation\n",
    "# Dissociative adsorption\n",
    "E_pt = ?                  # -10665.115\n",
    "E_o2 = ?                  # -877.827\n",
    "dissociative_energies = {\n",
    "'ontop': ?,               # -11103.908\n",
    "'bridge': ?,              # -11104.887\n",
    "'fcc': ?,                 # -11105.277\n",
    "'hcp': ?,                 # -11104.802\n",
    "}\n",
    "print('Sites     Adsorption energies (eV)')\n",
    "for site, E_ads in dissociative_energies.items():\n",
    "    dE_ads = E_ads - (E_pt + E_o2/2.0)\n",
    "    print('{0:10s}  {1:1.2f}'.format(site, dE_ads))\n"
   ]
  },
  {
   "cell_type": "code",
   "execution_count": null,
   "metadata": {},
   "outputs": [],
   "source": [
    "#=====================================================\n",
    "#  Molecular adsorption\n",
    "molecular_energies = {\n",
    "'top-top': ?,                # -11543.680,\n",
    "'top-fcc': ?,                # -11543.638,\n",
    "}\n",
    "print('Sites     Adsorption energies (eV)')\n",
    "for site, E_ads in molecular_energies.items():\n",
    "    dE_ads = E_ads - (E_pt + E_o2)\n",
    "    print('{0:10s}  {1:1.2f}'.format(site, dE_ads))"
   ]
  },
  {
   "cell_type": "markdown",
   "metadata": {},
   "source": [
    "### 5. Calculate the desorption temperature\n",
    "The desorption temperature $T$ can be get by solving this equation, please read the description for detail.\n",
    "\n",
    "$\\frac{E_a}{kT^2} - \\frac{xvN^{x-1}}{\\beta}exp(\\frac{-E_a}{kT}) = 0       \\tag{1}          $\n",
    "\n",
    "For molecular adsorption (O$_2$), we know that the desorption process is of first order ($x$ = 1) with an attempt frequency around the vibration frequency of the adsorbed O$_2$ molecule, which can reasonably be assumed to be around $v = 10^{13}$ Hz). \n",
    "\n",
    "Use your obtained adsorption energy for O$_2$ together with equation (1) in Python nonlinear solver to get the corresponding desorption temperature (pay attention to units). Is this adsorption energy consistent with the data for 0.25 ML in Figure 3? (The description document) What can we conclude regarding the fact if O$_2$ is adsorbed molecularly or dissociatively on Pt (111)? Does the attempt frequency, which we grossly approximated have a significant effect on the result?"
   ]
  },
  {
   "cell_type": "code",
   "execution_count": null,
   "metadata": {},
   "outputs": [],
   "source": [
    "from ase.units import kB      # unit eV K-1\n",
    "from math import exp\n",
    "from scipy import optimize\n",
    "\n",
    "x = 1\n",
    "v = 10**13     # unit Hz, s-1\n",
    "beta = 6      # K s-1\n",
    "N = 0.25\n",
    "Ea = '#todo'     # unit eV\n",
    "\n",
    "def Func(T):\n",
    "    # T unit K\n",
    "    return Ea/kB/T**2 - x*v*N**(x-1)/beta*exp(-Ea/kB/T)\n",
    "\n",
    "\n",
    "T = optimize.broyden1(Func, 1000, f_tol=1e-14)\n",
    "\n",
    "print('Desorption temperature: ', T)\n"
   ]
  },
  {
   "cell_type": "markdown",
   "metadata": {},
   "source": [
    "### 6. Calibrating the model for dissociative adsorption\n",
    "For dissociative adsorption, we have a second order process and we can unfortunately not easily estimate the attempt frequency from molecular vibrations. We will therefore make the assumption that the 0.25 ML peak in Figure 3 stems from desorption of dissociated O$_2$ molecules. Using your **most favorable** calculated adsorption energy, use equation 6 to determine the attempt frequency for the given experimental parameters ($N$=0.25, $\\beta$=6K/s). "
   ]
  },
  {
   "cell_type": "code",
   "execution_count": null,
   "metadata": {},
   "outputs": [],
   "source": [
    "from ase.units import kB      # unit eV K-1\n",
    "from math import exp\n",
    "from scipy import optimize\n",
    "\n",
    "x = 2\n",
    "beta = 6      # K s-1\n",
    "N = 0.25\n",
    "Ea = '#todo'     # unit eV\n",
    "\n",
    "T = 850\n",
    "print(Ea/kB/T**2, x*v*N**(x-1)/beta*exp(-Ea/kB/T))\n",
    "def calc_v(T):\n",
    "    # T unit K\n",
    "    v = (Ea/kB/T**2) / (x*N**(x-1)/beta*exp(-Ea/kB/T))\n",
    "    return v\n",
    "\n",
    "v1 = calc_v(850)\n",
    "\n",
    "print('Attempt frequency: {0:1.2} Hz'.format(v1))\n"
   ]
  },
  {
   "cell_type": "markdown",
   "metadata": {},
   "source": [
    "### 7. Explaining the experimental TPD spectrum\n",
    "Using this attempt frequency obtained in the last point, use a nonlinear solver to obtain the desorption peak temperature for the **second most favorable** adsorption site. How well does this peak temperature agree with experiment? What physical model do we assume for this process and is this realistic (you may want to discuss this with your assistant).\n",
    "\n",
    "What would a more realistic model be? Construct an adsorption energy for this case and use it with the calculated attempt frequency to predict the peak temperature. Does this fit the experimental data better? What do you hence assign the different TPD peaks to? Think about the fact that we used a coverage-independent adsorption energy (at 0.25 ML). Typically, adsorption gets stronger at lower coverages. How would you expect this to affect the peak positions? "
   ]
  },
  {
   "cell_type": "code",
   "execution_count": null,
   "metadata": {},
   "outputs": [],
   "source": [
    "from ase.units import kB      # unit eV K-1\n",
    "from math import exp\n",
    "from scipy import optimize\n",
    "\n",
    "x = 2\n",
    "v = '#todo'     # unit Hz, s-1\n",
    "beta = 6      # K s-1\n",
    "N = 0.25\n",
    "Ea = ?     # unit eV\n",
    "\n",
    "def Func(T):\n",
    "    # T unit K\n",
    "    return Ea/kB/T**2 - x*v*N**(x-1)/beta*exp(-Ea/kB/T)\n",
    "\n",
    "T = optimize.broyden1(Func, 800, f_tol=1e-14)\n",
    "\n",
    "print('Desorption temperature: ', T)\n"
   ]
  }
 ],
 "metadata": {
  "kernelspec": {
   "display_name": "Python 3",
   "language": "python",
   "name": "python3"
  },
  "language_info": {
   "codemirror_mode": {
    "name": "ipython",
    "version": 3
   },
   "file_extension": ".py",
   "mimetype": "text/x-python",
   "name": "python",
   "nbconvert_exporter": "python",
   "pygments_lexer": "ipython3",
   "version": "3.7.6"
  }
 },
 "nbformat": 4,
 "nbformat_minor": 4
}
