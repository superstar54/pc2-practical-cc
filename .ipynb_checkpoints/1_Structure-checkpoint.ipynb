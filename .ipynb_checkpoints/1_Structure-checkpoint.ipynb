{
 "cells": [
  {
   "cell_type": "markdown",
   "metadata": {},
   "source": [
    "## Part 1: Defining and visualizing atomic structures\n",
    "\n",
    "Assistants: Xing Wang & Moloud Kaviani\n",
    "\n",
    "Room:\tN216\n",
    "\n",
    "Phone:\t031 631 56 25\n",
    "\n",
    "Email:\txing.wang@dcb.unibe.ch, moloud.kaviani@dcb.unibe.ch  \n",
    "\n",
    "\n",
    "\n"
   ]
  },
  {
   "cell_type": "markdown",
   "metadata": {},
   "source": [
    "## 1. Introduction\n",
    "In this part we consider how to construct atomic structures and how to manipulate them using the Atomic Simulation Environment (ASE).\n"
   ]
  },
  {
   "cell_type": "markdown",
   "metadata": {},
   "source": [
    "### 2. Molecule\n",
    "#### 2.1 From scratch\n",
    "We will begin with defining molecules from scratch. The class method `Atoms` from **ASE** is used. We need to define the following parameters:\n",
    "* symbol of each atom, e.g. 'H', 'O'\n",
    "* position of each atom, e.g. [0, 0, 0]\n",
    "* unit cell of the structure, e.g.  [10, 10, 10]\n",
    "* boundary of the unit cell, periodic or not\n",
    "\n",
    "For position and unit cell, the default unit in ASE is Angstrom (Å). Here is an example of an CO$_2$ molecule. \n"
   ]
  },
  {
   "cell_type": "code",
   "execution_count": 1,
   "metadata": {},
   "outputs": [],
   "source": [
    "from ase import Atoms\n",
    "co2 = Atoms(symbols = 'COO',    # you can also use 'CO2'\n",
    "           positions = [[0, 0, 0], [1.16, 0, 0], [-1.16, 0, 0]],\n",
    "           cell=(10, 10, 10),\n",
    "           pbc = [True, True, True])"
   ]
  },
  {
   "cell_type": "markdown",
   "metadata": {},
   "source": [
    "Now we can view the 3D structure of the CO$_2$ molecule. The function `view_x3d_n` from **x3dase** is used. We need to define the following parameters:\n",
    "* atomic strucutre: e.g. the one we build for CO$_2$.\n",
    "* bond: Set to `1.0` to show the bond between atoms.\n",
    "* label: Set `True` to show the element symbol and index.\n",
    "* output: filename for the strucutre. e.g. `co2.html`"
   ]
  },
  {
   "cell_type": "code",
   "execution_count": null,
   "metadata": {},
   "outputs": [],
   "source": [
    "from x3dase.visualize import view_x3d_n\n",
    "\n",
    "view_x3d_n(co2, bond=1.0, label = True, output = 'htmls/co2.html')  # the output file is saved in htmls folder"
   ]
  },
  {
   "cell_type": "markdown",
   "metadata": {},
   "source": [
    "Some interaction and navigation methods to visualize the structure are shown in the table. Plese click the structure and try the following methods. You can also use the mouse to rotate and zoom the structure.\n",
    "\n",
    "|Keys| Model    |  Function |\n",
    "|-|-------------|  --------|\n",
    "|a|  show all   |\n",
    "|b| ball-and-stick model|\n",
    "|s| spacefilling model|\n",
    "|1| view top|\n",
    "|2| view front|\n",
    "|3| view right|\n",
    "|4| show label element|\n",
    "|5| show label index|\n",
    "|6| show no label |\n",
    "|r|  reset view |\n",
    "\n",
    "Using Ctrl + click to select multiple atoms, measurement will be shown on the left side.\n",
    "\n",
    "|Selection | measurement |\n",
    "|-|-|\n",
    "| single atom | xyz position and atomic symbol |\n",
    "| two atoms | interatomic distance |\n",
    "| three atoms | internal angle |\n",
    "\n"
   ]
  },
  {
   "cell_type": "markdown",
   "metadata": {},
   "source": [
    "#### 2.2 ASE database\n",
    "ASE also defines a number of molecular geometries in the database, which can be load directly. Here is a example for CH$_3$CH$_2$OH molecule."
   ]
  },
  {
   "cell_type": "code",
   "execution_count": null,
   "metadata": {},
   "outputs": [],
   "source": [
    "from ase.build import molecule\n",
    "from x3dase.visualize import view_x3d_n\n",
    "## Todo, please replace '#todo' with different formulas, eg. CH3CH2OH\n",
    "atoms = molecule('#todo')\n",
    "view_x3d_n(atoms, bond=1.0, label = True, output = 'htmls/ch3ch2oh.html')"
   ]
  },
  {
   "cell_type": "markdown",
   "metadata": {},
   "source": [
    "#### 2.3 PubChem database\n",
    "More complicated molecules may be obtained using the PubChem API integration. Here is a example of loading pyrene structure from PubChem website by search the name of the molecule. https://pubchem.ncbi.nlm.nih.gov/compound/Pyrene"
   ]
  },
  {
   "cell_type": "code",
   "execution_count": null,
   "metadata": {},
   "outputs": [],
   "source": [
    "from ase.data.pubchem import pubchem_atoms_search\n",
    "pyrene = pubchem_atoms_search(name = 'pyrene')\n",
    "view_x3d_n(pyrene, bond=1.0, label = True, output = 'htmls/pyrene.html')"
   ]
  },
  {
   "cell_type": "markdown",
   "metadata": {},
   "source": [
    "### 3. Bulk systems\n",
    "As with molecules, ASE provides several functions to create bulk crystal structures. The class method `bulk` from **ASE** is used. We need to define the following parameters:\n",
    "* symbol of the atoms, e.g. 'Pt'\n",
    "* crystal tructure, e.g. bcc, fcc\n",
    "* lattie constant, in the unit of angstrom (Å)\n",
    "\n",
    "Here is an example of a platinum (Pt) bulk. Pt is an fcc metal, and the experimental lattice constant is 3.912 Å."
   ]
  },
  {
   "cell_type": "code",
   "execution_count": null,
   "metadata": {},
   "outputs": [],
   "source": [
    "from ase.build import bulk\n",
    "from x3dase.visualize import view_x3d_n\n",
    "\n",
    "atoms = bulk('Pt', 'fcc', a = 3.912)\n",
    "view_x3d_n(atoms, bond = 1.0, output = 'htmls/bulk-pt.html')\n",
    "# please click the blank space, and press \"a\" to show the structure\n"
   ]
  },
  {
   "cell_type": "markdown",
   "metadata": {},
   "source": [
    "You only see one atom in the unit cell. Now we can extend the structure in three dimension, because the cyrstal is perodic in 3D."
   ]
  },
  {
   "cell_type": "code",
   "execution_count": null,
   "metadata": {},
   "outputs": [],
   "source": [
    "# extend 5x5x5\n",
    "view_x3d_n(atoms*[5, 5, 5], output = 'htmls/bulk-pt-555.html')"
   ]
  },
  {
   "cell_type": "markdown",
   "metadata": {},
   "source": [
    "### 4. Surface\n",
    "ASE provides many utility functions to setup surfaces. Here is an example of building atomic structure for Pt (111) surface. The class method `fcc111` from **ASE** is used. We need to define the following parameters:\n",
    "* symbol of the atoms\n",
    "* size in three dimension, e.g. (2, 2, 4)\n",
    "* lattie constant\n",
    "* vacuum: the thickness of vacuum on the top of a surface."
   ]
  },
  {
   "cell_type": "code",
   "execution_count": null,
   "metadata": {},
   "outputs": [],
   "source": [
    "from ase.build import fcc111\n",
    "from x3dase.visualize import view_x3d_n\n",
    "\n",
    "\n",
    "atoms = fcc111('Pt', size=(1, 1, 3), a = 3.912, vacuum=6.0)\n",
    "#Todo view different size of the supercell [6, 6, 3], and understand the surface model.\n",
    "view_x3d_n(atoms*[6, 6, 1], output = 'htmls/fcc111-pt.html')"
   ]
  },
  {
   "cell_type": "markdown",
   "metadata": {},
   "source": [
    "You should see a box, which contains the Pt atoms and a vacuum region. Because the periodic boundary conditions are applied to the box, it has an infinite dimension along a and b. However, along c direction, the vacuum region separates each atomic structure, forming the “slab” model."
   ]
  },
  {
   "cell_type": "markdown",
   "metadata": {},
   "source": [
    "### 5. Build your own structure\n",
    "Using **ASE**, we can add two atomic structures together to form a new structure. For example, adsorption of oxygen atom on Pt (111) surface. \n",
    "\n",
    "`atoms = pt + o`\n",
    "\n",
    "However, we should carefully choose the position of atoms to avoid unrealistic overlap. Please read the position of a platinum atom in the top layer of the Pt (111) surface. And choose a position for the oxygen atom, thus adding an oxygen on the top of a platinum atom."
   ]
  },
  {
   "cell_type": "code",
   "execution_count": null,
   "metadata": {},
   "outputs": [],
   "source": [
    "from ase.build import fcc111, add_adsorbate\n",
    "from x3dase.visualize import view_x3d_n\n",
    "from ase.atoms import Atoms\n",
    "\n",
    "pt = fcc111('Pt', size=(1, 1, 3), vacuum=6.0)\n",
    "## Todo, please replace '#todo' with value\n",
    "o = Atoms('O', positions = [[0, 0, '#todo']])\n",
    "atoms = pt + o\n",
    "view_x3d_n(atoms*[4, 4, 1], bond = 1.0, label = True, output = 'htmls/pt-o-ontop.html')"
   ]
  },
  {
   "cell_type": "markdown",
   "metadata": {},
   "source": [
    " **ASE** also provides a function to add adsorbates to a surface. The function `add_adsorbate` is used."
   ]
  },
  {
   "cell_type": "code",
   "execution_count": null,
   "metadata": {},
   "outputs": [],
   "source": [
    "from ase.build import fcc111, add_adsorbate\n",
    "from x3dase.visualize import view_x3d_n\n",
    "from ase.atoms import Atoms\n",
    "\n",
    "pt = fcc111('Pt', size=(1, 1, 3), vacuum=6.0)\n",
    "o = Atoms('O')\n",
    "#Todo try different adsorption position: ‘ontop’, ‘bridge’, ‘fcc’ and ‘hcp’\n",
    "add_adsorbate(pt, o, height=1.0, position='fcc')\n",
    "view_x3d_n(pt*[4, 4, 1], bond = 1.0, rmbonds = {'Pt':['Pt']}, label = True, output = 'htmls/pt-o.html')"
   ]
  },
  {
   "cell_type": "markdown",
   "metadata": {},
   "source": [
    "### 6. Real life stuff: Coronavirus\n",
    "Here is an example of the crystal structure of COVID-19 main protease.\n",
    "http://www.rcsb.org/structure/6LU7\n",
    "\n",
    "The structure is so big that it take few seconds to load the 3D structure."
   ]
  },
  {
   "cell_type": "code",
   "execution_count": null,
   "metadata": {},
   "outputs": [],
   "source": [
    "from ase.io import read\n",
    "\n",
    "atoms = read('datas/6lu7.pdb')\n",
    "# please don't set bond and label, otherwise it take to long to load the structure.\n",
    "view_x3d_n(atoms, output = 'htmls/6lu7.html')"
   ]
  }
 ],
 "metadata": {
  "kernelspec": {
   "display_name": "Python 3",
   "language": "python",
   "name": "python3"
  },
  "language_info": {
   "codemirror_mode": {
    "name": "ipython",
    "version": 3
   },
   "file_extension": ".py",
   "mimetype": "text/x-python",
   "name": "python",
   "nbconvert_exporter": "python",
   "pygments_lexer": "ipython3",
   "version": "3.8.5"
  }
 },
 "nbformat": 4,
 "nbformat_minor": 4
}
