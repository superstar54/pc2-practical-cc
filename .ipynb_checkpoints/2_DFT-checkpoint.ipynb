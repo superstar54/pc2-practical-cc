{
 "cells": [
  {
   "cell_type": "markdown",
   "metadata": {},
   "source": [
    "## Part 2: DFT calculation\n",
    "Assistants: Xing Wang & Moloud Kaviani\n",
    "\n",
    "Room:\tN216\n",
    "\n",
    "Phone:\t031 631 56 25\n",
    "\n",
    "Email:\txing.wang@dcb.unibe.ch, moloud.kaviani@dcb.unibe.ch "
   ]
  },
  {
   "cell_type": "markdown",
   "metadata": {},
   "source": [
    "### 1. Your first DFT calculation\n",
    "There are four parts to run a DFT calculation with ASE. \n",
    "\n",
    "* (1) Setup the Atoms object that contains the element and positions, which you have learned in the Part 1.  \n",
    "* (2) Define a calculator. In our calculation, the calculator is Quantum Espresso. \n",
    "* (3) Attach the calculator to the Atoms object, and run the calculation. \n",
    "* (4) Read results and analyze\n",
    "\n",
    "\n",
    "Now we are going to calculate the energy and forces of an O$_2$ molecule. "
   ]
  },
  {
   "cell_type": "markdown",
   "metadata": {},
   "source": [
    "### Step 1\n",
    "We setup an Atoms object for O$_2$ molecule."
   ]
  },
  {
   "cell_type": "code",
   "execution_count": null,
   "metadata": {},
   "outputs": [],
   "source": [
    "from ase import Atoms\n",
    "from x3dase.visualize import view_x3d_n\n",
    "o2 = Atoms('O2', \n",
    "           positions = [[0, 0, 0], [1.2, 0, 0]],\n",
    "           cell=(10, 10, 10),\n",
    "           pbc = [True, True, True])\n",
    "view_x3d_n(o2, bond=1.0, label = True, output = 'htmls/o2.html')"
   ]
  },
  {
   "cell_type": "markdown",
   "metadata": {},
   "source": [
    "### Step 2\n",
    "We have to define a Quantum Espresso calculator.  The class method `Espresso` from **xespresso** is used. We need to define the following parameters:\n",
    "* **label**:the directory for the calculation\n",
    "* **pseudopotentials**: filenames for each atomic species\n",
    "* parameters for Quantum Espresso, eg. **ecutwfc**, **npsin**\n",
    "* **kpts**: number of k-point\n",
    "* **queue**: request resourse from high performance computing center.\n",
    "\n",
    "Here is an example of an O$_2$ molecule. We use a planewave cutoff (`ecutwfc`) of 30 Ry, and pseudopotential with the PBE exchange correlation functional. O$_2$ molecule has an triplet spin state. To account for this spin polarization, we have to tell Quantum Espresso to use spin-polarization calculation, and give initial guesses for the magnetic moments of the atoms. which can be setted by adding (`nspin = 2`) and (`starting_magnetization`) parameters. `queue` request 10 CPUs for this calculation."
   ]
  },
  {
   "cell_type": "code",
   "execution_count": null,
   "metadata": {},
   "outputs": [],
   "source": [
    "from xespresso import Espresso\n",
    "import xespresso \n",
    "print(xespresso.__path__)\n",
    "\n",
    "pseudopotentials = {'O': 'O.pbe-n-rrkjus_psl.1.0.0.UPF',}\n",
    "\n",
    "queue = {'ntasks': 10, 'partition': 'debug', 'time': '00:10:00'}\n",
    "\n",
    "calc = Espresso(label = 'molecule/o2-energy-force',\n",
    "                pseudopotentials = pseudopotentials,\n",
    "                ecutwfc = 40,\n",
    "                tprnfor = True,\n",
    "                occupations = 'smearing',\n",
    "                degauss = 0.02,\n",
    "                nspin = 2,\n",
    "                input_data = {'input_ntyp':{'starting_magnetization': {'O':1}}},\n",
    "                kpts = (1, 1, 1),\n",
    "                queue = queue,\n",
    "               )"
   ]
  },
  {
   "cell_type": "markdown",
   "metadata": {},
   "source": [
    "#### Step 3\n",
    "We attach the calculator to the Atoms object, and run the calculation by using `get_potential_energy`. When the calculation finished, all the result are stored in `calc.results`, which is a Python dictionary. The following properties can be read from `calc.results`.\n",
    "\n",
    "`properties = ['energy', 'forces', 'stress', 'magmoms']`\n",
    "\n",
    "We can get the property, e.g. forces,  by using `calc.results['forces']`."
   ]
  },
  {
   "cell_type": "code",
   "execution_count": null,
   "metadata": {},
   "outputs": [],
   "source": [
    "o2.calc = calc\n",
    "e = o2.get_potential_energy()\n",
    "print('Energy = {0:1.3f} eV'.format(e))\n",
    "print('Force on the first oxygen atom: \\n', calc.results['forces'][0])\n",
    "print('Magmom on all oxygen atoms: \\n', calc.results['magmoms'])"
   ]
  },
  {
   "cell_type": "markdown",
   "metadata": {},
   "source": [
    "\n",
    "You can see that the forces on the oxygen atom are very high, indicating that this geometry (bond length) is not close to the ground state geometry.\n",
    "\n",
    "Please also look at the magnetization (`magmom`) to spot the triplet ground state. "
   ]
  },
  {
   "cell_type": "markdown",
   "metadata": {},
   "source": [
    "### 3 Geometry optimization\n",
    "#### 3.1 Manual determination of optimal bond length\n",
    "We will compute the energy and forces for a series of bond lengths for O$_2$ molecule. And find the most stable one."
   ]
  },
  {
   "cell_type": "code",
   "execution_count": null,
   "metadata": {},
   "outputs": [],
   "source": [
    "import matplotlib.pyplot as plt\n",
    "\n",
    "# Todo: choose five values for the bond length, from small to larger. \n",
    "# Please search the experimental bond length of oxygen molecule, and use it as a reference for your choice\n",
    "queue = {'ntasks': 10, 'partition': 'debug', 'time': '00:10:00'}\n",
    "bond_lengths = ['#todo, five bond length values']\n",
    "energies = []\n",
    "print('Bond length   Energy     Force')\n",
    "for x in bond_lengths:\n",
    "    calc = Espresso(label = 'molecule/o2-bond-{0}'.format(x),\n",
    "                    pseudopotentials = pseudopotentials,\n",
    "                    ecutwfc = 30,\n",
    "                    tprnfor = True,\n",
    "                    occupations = 'smearing',\n",
    "                    degauss = 0.01,\n",
    "                    nspin = 2,\n",
    "                    input_data = {'input_ntyp':{'starting_magnetization': {'O':1}}},\n",
    "                    kpts = (1, 1, 1),\n",
    "                    queue = queue)\n",
    "    atoms = o2.copy()\n",
    "    atoms[1].x = x\n",
    "    atoms.calc = calc\n",
    "    e = atoms.get_potential_energy()\n",
    "    force = calc.results['forces'][0][0]\n",
    "    print('{0:10.2f}  {1:10.3f}  {2:10.3f}'.format(x, e, force))\n",
    "    energies.append(e)\n",
    "\n",
    "plt.plot(bond_lengths, energies, 'bo-')\n",
    "plt.xlabel(r'Bond length ($\\AA$)')\n",
    "plt.ylabel('Total energy (eV)')\n",
    "plt.savefig('images/O2-bondlengths.png')"
   ]
  },
  {
   "cell_type": "markdown",
   "metadata": {},
   "source": [
    "#### 3.2 Optimization with Quantum Espresso\n",
    "We can also let Quantum Espresso do the optimization for us by adding a parameter:\n",
    "`calculation = 'relax'`"
   ]
  },
  {
   "cell_type": "code",
   "execution_count": null,
   "metadata": {},
   "outputs": [],
   "source": [
    "from xespresso import Espresso\n",
    "pseudopotentials = {'O': 'O.pbe-n-rrkjus_psl.1.0.0.UPF',}\n",
    "queue = {'ntasks': 10, 'partition': 'empi', 'time': '00:10:00'}\n",
    "calc = Espresso(label = 'molecule/o2-relax',\n",
    "                pseudopotentials = pseudopotentials,\n",
    "                calculation = 'relax',\n",
    "                ecutwfc = 30,\n",
    "                tprnfor = True,\n",
    "                occupations = 'smearing',\n",
    "                degauss = 0.01,\n",
    "                nspin = 2,\n",
    "                input_data = {'input_ntyp':{'starting_magnetization': {'O':1}}},\n",
    "                kpts = (1, 1, 1),\n",
    "                queue = queue,\n",
    "               )\n",
    "atoms = o2.copy()\n",
    "atoms.calc = calc\n",
    "e = atoms.get_potential_energy()\n",
    "print('Energy = {0:1.3f} eV'.format(e))\n",
    "print('Forces: \\n', calc.results['forces'])"
   ]
  },
  {
   "cell_type": "markdown",
   "metadata": {},
   "source": [
    "We note that the forces are now low compared to the previous calculation. We can also get the bond length from the atoms object."
   ]
  },
  {
   "cell_type": "code",
   "execution_count": null,
   "metadata": {},
   "outputs": [],
   "source": [
    "bondlength = calc.results['atoms'].get_distance(0, 1)\n",
    "print('Bond length: {0:1.3f}'.format(bondlength))\n"
   ]
  },
  {
   "cell_type": "markdown",
   "metadata": {},
   "source": [
    "Does this close to your manual determination?"
   ]
  },
  {
   "cell_type": "markdown",
   "metadata": {},
   "source": [
    "### 4 Converging your results with respect to numerical parameters\n",
    "We are interested in computing accurate adsorption energies but we have to control two numerical parameters as explained in the description document(section 5):\n",
    "* $k$-point density\n",
    "* planewave cutoff energy.\n",
    "\n",
    "We will hence perform a calculation of the energy, varying these parameters to see from when on we get a negligible influence of the numerical parameters."
   ]
  },
  {
   "cell_type": "markdown",
   "metadata": {},
   "source": [
    "#### 4.1 $K$-point density\n",
    "We want to run calculations with $k$-point values of 2, 3, 4, 5, 6 and 7. Modify the following code to carry out these calculations. Based on your energy vs. $k$-point curves, which value for the $k$-mesh do you choose? Discuss your choice with your assistant."
   ]
  },
  {
   "cell_type": "code",
   "execution_count": null,
   "metadata": {},
   "outputs": [],
   "source": [
    "from ase.build import fcc111\n",
    "from ase.constraints import FixAtoms\n",
    "from x3dase.visualize import view_x3d_n\n",
    "\n",
    "\n",
    "pt = fcc111('Pt', size=(2, 2, 3), vacuum=6.0)\n",
    "constraint = FixAtoms(mask=[atom.tag >= 2 for atom in pt])\n",
    "pt.set_constraint(constraint)\n",
    "\n",
    "pseudopotentials = {'Pt': 'Pt.pbe-n-rrkjus_psl.1.0.0.UPF',}\n",
    "queue = {'ntasks': 10, 'partition': 'empi', 'time': '00:10:00'}\n",
    "\n",
    "kpoints = ['#todo']\n",
    "energies = []\n",
    "for kpoint in kpoints:\n",
    "    atoms = pt.copy()\n",
    "    calc = Espresso(label = 'surface/pt-kpoint-{0}'.format(kpoint),\n",
    "                    pseudopotentials = pseudopotentials,\n",
    "                    ecutwfc = 40,\n",
    "                    occupations = 'smearing',\n",
    "                    degauss = 0.01,\n",
    "                    kpts = (kpoint, kpoint, 1),\n",
    "                    queue = queue)\n",
    "    atoms.calc = calc\n",
    "    e = atoms.get_potential_energy()\n",
    "    print('{0:3d} {1:3.3f}'.format(kpoint, e))\n",
    "    energies.append(e)\n",
    "\n",
    "plt.plot(kpoints, energies, 'bo-')\n",
    "plt.xlabel('Number of k-points in each dimension')\n",
    "plt.ylabel('Total Energy (eV)')\n",
    "plt.savefig('images/Pt-kpoint-convergence.png')"
   ]
  },
  {
   "cell_type": "markdown",
   "metadata": {},
   "source": [
    "#### 4.2 Planewave cutoff\n",
    "We want to run calculations with ecutwfc values of 20, 30, 40 and 50. Modify the following code to carry out these calculations. For which ecutwfc do you deem your calculation to give reliable results? Discuss your choice with your assistant."
   ]
  },
  {
   "cell_type": "code",
   "execution_count": null,
   "metadata": {},
   "outputs": [],
   "source": [
    "ecutwfcs = ['#todo']\n",
    "energies = []\n",
    "for ecutwfc in ecutwfcs:\n",
    "    atoms = pt.copy()\n",
    "    calc = Espresso(label = 'surface/pt-ecutwfc-{0}'.format(ecutwfc),\n",
    "                    pseudopotentials = pseudopotentials,\n",
    "                    ecutwfc = ecutwfc,\n",
    "                    occupations = 'smearing',\n",
    "                    degauss = 0.01,\n",
    "                    kpts = (6, 6, 1),\n",
    "                    queue = queue)\n",
    "    atoms.calc = calc\n",
    "    e = atoms.get_potential_energy()\n",
    "    print('{0} {1:3.3f}'.format(ecutwfc, e))\n",
    "    energies.append(e)\n",
    "\n",
    "plt.plot(ecutwfcs, energies, 'bo-')\n",
    "plt.xlabel('Ecutwfc (eV)')\n",
    "plt.ylabel('Total energy (eV)')\n",
    "plt.savefig('images/Pt-ecutwfc-energy.png')"
   ]
  }
 ],
 "metadata": {
  "kernelspec": {
   "display_name": "Python 3",
   "language": "python",
   "name": "python3"
  },
  "language_info": {
   "codemirror_mode": {
    "name": "ipython",
    "version": 3
   },
   "file_extension": ".py",
   "mimetype": "text/x-python",
   "name": "python",
   "nbconvert_exporter": "python",
   "pygments_lexer": "ipython3",
   "version": "3.7.6"
  }
 },
 "nbformat": 4,
 "nbformat_minor": 4
}
