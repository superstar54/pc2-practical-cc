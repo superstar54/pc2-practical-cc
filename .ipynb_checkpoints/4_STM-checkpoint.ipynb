{
 "cells": [
  {
   "cell_type": "markdown",
   "metadata": {},
   "source": [
    "## Part 4: STM images\n",
    "\n",
    "Assistants:Xing Wang & Moloud Kaviani\n",
    "\n",
    "Room:\tN216\n",
    "\n",
    "Phone:\t031 631 56 25\n",
    "\n",
    "Email:\txing.wang@dcb.unibe.ch, moloud.kaviani@dcb.unibe.ch  "
   ]
  },
  {
   "cell_type": "markdown",
   "metadata": {},
   "source": [
    "## 1. Introduction\n",
    "In the following we want to compute STM images of the adsorbed oxygen species. It is however instructive to first compute those for a more covalent surface to learn how to interpret the results. We will hence compute STM images for graphite and graphene to see the differences in bonding in the two structures.\n",
    "\n",
    "The general procedure to compute an STM image is the following:\n",
    "\n",
    "* Compute a self-consistent electronic structure\n",
    "* Compute the density of states integrated between the Fermi energy and the bias voltage as given by equation.\n",
    "* Conversion of this 3D density dataset into a constant-current dataset.\n",
    "* Visualization of the results."
   ]
  },
  {
   "cell_type": "markdown",
   "metadata": {},
   "source": [
    "### 2. STM image of graphite surface\n",
    "First we build the surface of graphite. \n",
    "Graphite consists of sequences of stacked graphene sheets as shown in Fig. 1.\n",
    "<img src=\"images/graphite.png\"  width=\"500\">\n",
    "\n",
    "Figure 1: Atomic geometry of graphite. The structure is made up of layers of graphene sheets. There are grey ($\\alpha$) and red ($\\beta$) carbon atoms, that are different in the sense that $\\alpha$ carbon atoms have another carbon directly underneath whereas $\\beta$ carbon atoms do not. This difference hence comes from the graphite structure and will not exist for a single graphene sheet."
   ]
  },
  {
   "cell_type": "code",
   "execution_count": null,
   "metadata": {},
   "outputs": [],
   "source": [
    "from ase.lattice.hexagonal import Graphite\n",
    "from ase.build import surface\n",
    "from x3dase.visualize import view_x3d_n\n",
    "# build graphite bulk, we read the lattice constant from Figure 1. a = 246pm, c = 334.8*2pm\n",
    "graphite = Graphite('C', latticeconstant={'a':2.460, 'c': 6.696},size=(1,1,1))\n",
    "# build graphite surface\n",
    "graphite = surface(graphite, (0, 0, 1), 2, vacuum = 8.0)\n",
    "view_x3d_n(graphite*[3, 3, 1], bond=1.0, label = True, output = 'htmls/graphite.html')"
   ]
  },
  {
   "cell_type": "markdown",
   "metadata": {},
   "source": [
    "Then calculate the energy of the graphite surface."
   ]
  },
  {
   "cell_type": "code",
   "execution_count": null,
   "metadata": {},
   "outputs": [],
   "source": [
    "from xespresso import Espresso\n",
    "\n",
    "pseudopotentials = {'C': 'C.pbe-n-rrkjus_psl.1.0.0.UPF',}\n",
    "queue = {'ntasks': 20, 'partition': 'empi', 'time': '00:59:00'}\n",
    "calc = Espresso(pseudopotentials = pseudopotentials, \n",
    "                label  = 'surface/graphite',\n",
    "                ecutwfc = 40,\n",
    "                occupations = 'smearing',\n",
    "                degauss = 0.01,\n",
    "                vdw_coor = 'grimme-d2',\n",
    "                kpts=(20, 20, 1),\n",
    "                queue = queue,\n",
    "               )\n",
    "graphite.calc = calc\n",
    "e = graphite.get_potential_energy()\n",
    "print('Energy: {0:1.3f}'.format(e))"
   ]
  },
  {
   "cell_type": "markdown",
   "metadata": {},
   "source": [
    "Now let's run a post calculation using package `pp`. This will produce the stm_1.0eV.cube and stm_0.1eV.cube file, which contains on a 3D grid all the values of the DOS integrated between E$_{fermi}$ and E$_{fermi+eV_{bias}}$.\n",
    "\n",
    "Please look at the comment lines for the meaning of the paramters"
   ]
  },
  {
   "cell_type": "code",
   "execution_count": null,
   "metadata": {},
   "outputs": [],
   "source": [
    "from ase.io.cube import read_cube_data\n",
    "import pickle\n",
    "\n",
    "queue = {'ntasks': 20, 'partition': 'debug', 'time': '00:10:00'}\n",
    "for bias in [0.1, 1.0]:\n",
    "    calc.post(queue = queue, \n",
    "            package='pp', \n",
    "            plot_num = 5,               # Compute a STM dataset\n",
    "            sample_bias = bias/13.6057, # The applied bias voltage in Ry (1 Ry = 13.6057 eV)\n",
    "            iflag = 3,                  # Output a 3D dataset of integrated local DOS\n",
    "            output_format = 6,          # Output as an cube file\n",
    "            fileout = 'stm_{0}eV.cube'.format(bias)   # Name of the output file\n",
    "            )\n",
    "    # read the cube file and save it to 'datas.pickle', which will be used by the STM method in ASE\n",
    "    ldos, atoms = read_cube_data('surface/graphite/stm_{0}eV.cube'.format(bias))\n",
    "    with open('surface/graphite/stm_{0}.pickle'.format(bias), 'wb') as f:\n",
    "        pickle.dump([ldos, bias, atoms.cell], f)"
   ]
  },
  {
   "cell_type": "markdown",
   "metadata": {},
   "source": [
    "Now let's initialize a STM object, and make a constant height scan at $z$=19.5 Å (for our surface, the top layer is at $z$=18.04 Å) and plot it. \n",
    "\n",
    "Change the $z$ value to see how the image changes as a function of the $z$-coordinate (the sample-tip separation).\n",
    "\n",
    "Also try different bias values (0.1 and 1.0)."
   ]
  },
  {
   "cell_type": "code",
   "execution_count": null,
   "metadata": {},
   "outputs": [],
   "source": [
    "from ase.dft.stm import STM\n",
    "from ase.io.cube import read_cube_data\n",
    "import pickle\n",
    "import matplotlib.pyplot as plt\n",
    "\n",
    "bias = 0.1\n",
    "z = 19.0\n",
    "stm = STM('surface/graphite/stm_{0}.pickle'.format(bias))\n",
    "x, y, I = stm.scan2(bias, z, repeat=(3, 3))\n",
    "\n",
    "plt.figure()\n",
    "plt.gca(aspect='equal')\n",
    "plt.contourf(x, y, I, 40, cmap=plt.cm.bone)\n",
    "plt.colorbar()\n",
    "plt.savefig('images/STM-2d-I-graphite-bias-{0}-z-{1}.png'.format(bias, z))"
   ]
  },
  {
   "cell_type": "markdown",
   "metadata": {},
   "source": [
    "We had seen in the introduction that experimental STM images are usually recorded in “constant-current” mode. Now get the averaged current at $z$=19.5 Å. From the current we make a scan to get a 2-d array of constant current scan and make a contour plot."
   ]
  },
  {
   "cell_type": "code",
   "execution_count": null,
   "metadata": {},
   "outputs": [],
   "source": [
    "bias = 0.1\n",
    "z = 19.5\n",
    "c = stm.get_averaged_current(bias, z)\n",
    "x, y, h = stm.scan(bias, c, repeat=(3, 3))\n",
    "h[h<19.0] = 19.0\n",
    "plt.gca(aspect='equal')\n",
    "plt.contourf(x, y, h, 40, cmap=plt.cm.bone, )\n",
    "plt.colorbar()\n",
    "plt.savefig('images/STM-2d-H-graphite-bias-{0}-z-{1}.png'.format(bias, z))\n"
   ]
  },
  {
   "cell_type": "markdown",
   "metadata": {},
   "source": [
    "Do you understand what you see? If not, let’s try to learn some more about the electronic structure to help us interpret the images. For this we will compute electronic band structures – think of them as the equivalent of molecular orbital diagrams in periodic systems.\n",
    "\n",
    "In graphite, the carbon atoms form an sp$^2$ bonded hexagonal lattice. In this configuration the s, p$_x$ and p$_y$-derived σ orbitals are occupied by 3 electrons and the p$_z$-derived π orbital contains 1 electron. The Fermi energy lies in this π band and for small bias voltages we will primarily see the DOS coming from these p$_z$-derived orbitals.\n",
    "\n",
    "In order to check exactly how small these bias voltages can be, we will compute the band-structures for graphite."
   ]
  },
  {
   "cell_type": "markdown",
   "metadata": {},
   "source": [
    "### 3. Band structure for graphite bulk\n",
    "We first run a normal calculation, and get the fermi energy using\n",
    "\n",
    "`fermi = calc.get_fermi_level()` "
   ]
  },
  {
   "cell_type": "code",
   "execution_count": null,
   "metadata": {},
   "outputs": [],
   "source": [
    "from ase.lattice.hexagonal import Graphite\n",
    "from xespresso import Espresso\n",
    "\n",
    "graphite = Graphite('C', latticeconstant={'a':2.460, 'c': 6.696},size=(1,1,1))\n",
    "pseudopotentials = {'C': 'C.pbe-n-rrkjus_psl.1.0.0.UPF',}\n",
    "queue = {'ntasks': 20, 'partition': 'debug', 'time': '00:10:00'}\n",
    "calc = Espresso(pseudopotentials = pseudopotentials, \n",
    "                label  = 'bulk/graphite',\n",
    "                ecutwfc = 40,\n",
    "                occupations = 'smearing',\n",
    "                degauss = 0.01,\n",
    "                vdw_coor = 'grimme-d2',\n",
    "                kpts=(10, 10, 4),\n",
    "                queue = queue,\n",
    "               )\n",
    "graphite.calc = calc\n",
    "e = graphite.get_potential_energy()\n",
    "fermi = graphite.calc.get_fermi_level()\n",
    "print('Energy: {0:1.3f}'.format(e))\n",
    "print('Fermie energy: {0:1.3f}'.format(fermi))\n"
   ]
  },
  {
   "cell_type": "markdown",
   "metadata": {},
   "source": [
    "In a second step, we want to calculate the eigenvalues of the kinetic energy operator along given lines in $k$-space to obtain the electronic band structure. For this, we do a non self-consistent calculation using `nscf` function, and set `calculation = 'bands'` and modify the $k$-point to a $k$-point path.\n",
    "`kpts={'path': 'GMKG', 'npoints': 50}`. \n",
    "\n",
    "This will tell Quantum ESPRESSO to calculate a string of lines in $k$-space going from (0, 0, 0) to (0.5, 0, 0) to ($\\frac{1}{3}$, $\\frac{1}{3}$, 0) and back to (0, 0, 0) making 50 points along each segment. In Figure 2, this corresponds to moving from $Γ$ to $M$ to $K$ and back to $Γ$. We have left the k$_z$ direction out on purpose as later we want to compare to graphene and the $z$ direction is aperiodic for graphene, giving it a 2D reciprocal space.\n",
    "\n",
    "<img src=\"images/bz-graphite.png\"  width=\"500\">\n",
    "\n",
    "Figure 2: Reciprocal space (the first Brillouin zone actually) for graphite. The points of interest for us here are $Γ$, $M$ and $K$ at coordinates (0, 0, 0), ($\\frac{1}{2}$, 0, 0) and ($\\frac{1}{3}$, $\\frac{1}{3}$, 0) respectively."
   ]
  },
  {
   "cell_type": "code",
   "execution_count": null,
   "metadata": {},
   "outputs": [],
   "source": [
    "import matplotlib.pyplot as plt\n",
    "\n",
    "calc = graphite.calc\n",
    "kpts={'path': 'GMKG', 'npoints': 50}\n",
    "calc.nscf(queue = queue, calculation = 'bands', kpts = kpts)\n",
    "calc.nscf_calculate()\n",
    "calc.read_results()\n",
    "bs = calc.band_structure()\n",
    "bs._reference = fermi\n",
    "bs = bs.subtract_reference()\n",
    "ax = bs.plot(emin = -15, emax=10)\n",
    "plt.savefig('images/graphite-band.png')\n"
   ]
  },
  {
   "cell_type": "markdown",
   "metadata": {},
   "source": [
    "Can you based on this figure understand why the graphite STM images at 0.1 eV and 1.0 eV look this different? Discuss this with your assistant if you are unsure."
   ]
  },
  {
   "cell_type": "markdown",
   "metadata": {},
   "source": [
    "### 4. Computing STM images of graphene\n",
    "We will now exfoliate graphite to make a graphene sheet. Experimentally you would need scotch tape and patience but computationally it’s a lot easier. \n",
    "\n"
   ]
  },
  {
   "cell_type": "code",
   "execution_count": null,
   "metadata": {},
   "outputs": [],
   "source": [
    "from ase.io import read\n",
    "from ase.build import surface\n",
    "from x3dase.visualize import view_x3d_n\n",
    "\n",
    "graphite_bulk = Graphite('C', latticeconstant={'a':2.460, 'c': 6.696},size=(1,1,1))\n",
    "# build graphite surface, which contains two layers of carbon atoms\n",
    "graphene = surface(graphite_bulk, (0, 0, 1), 1, vacuum = 5.0)\n",
    "view_x3d_n(graphene*[3, 3, 1], bond=1.0, label = True, output = 'htmls/graphene-2.html')"
   ]
  },
  {
   "cell_type": "code",
   "execution_count": null,
   "metadata": {},
   "outputs": [],
   "source": [
    "# select all atoms in the top layer.\n",
    "# To do that, please find the z coordinate of the atoms, and put a value a little bit smaller than the coordiante in the #todo.\n",
    "select = [atom.index for atom in graphene if atom.z > 8]\n",
    "# delete the select atoms\n",
    "del graphene[select]\n",
    "view_x3d_n(graphene*[3, 3, 1], bond=1.0, label = True, output = 'htmls/graphene.html')"
   ]
  },
  {
   "cell_type": "markdown",
   "metadata": {},
   "source": [
    "\n",
    "Now run this calculation and proceed as before to compute a band structure and to calculate STM images at biases of 1.0 and 0.1 eV. Compare the band structures and STM images for graphite with the ones for graphene. Notice that they are similar but that the one for graphite has additional features. Think about the origin of these features in terms of alpha and beta carbon atoms shown in Figure 1."
   ]
  },
  {
   "cell_type": "code",
   "execution_count": null,
   "metadata": {},
   "outputs": [],
   "source": [
    "from xespresso import Espresso\n",
    "from ase.io.cube import read_cube_data\n",
    "import pickle\n",
    "\n",
    "pseudopotentials = {'C': 'C.pbe-n-rrkjus_psl.1.0.0.UPF',}\n",
    "queue = {'ntasks': 20, 'partition': 'empi', 'time': '00:59:00'}\n",
    "calc = Espresso(pseudopotentials = pseudopotentials, \n",
    "                label  = 'surface/graphene',\n",
    "                ecutwfc = 40,\n",
    "                occupations = 'smearing',\n",
    "                degauss = 0.01,\n",
    "                vdw_coor = 'grimme-d2',\n",
    "                kpts=(20, 20, 1),\n",
    "                queue = queue,\n",
    "               )\n",
    "graphene.calc = calc\n",
    "e = graphene.get_potential_energy()\n",
    "fermi = graphene.calc.get_fermi_level()\n",
    "print('Energy: {0:1.3f}'.format(e))\n",
    "print('Fermie energy: {0:1.3f}'.format(fermi))"
   ]
  },
  {
   "cell_type": "code",
   "execution_count": null,
   "metadata": {},
   "outputs": [],
   "source": [
    "import numpy as np\n",
    "calc = graphene.calc\n",
    "for bias in [0.1, 1.0]:\n",
    "    calc.post(queue = queue, \n",
    "            package='pp', \n",
    "            plot_num = 5,               # Compute a STM dataset\n",
    "            sample_bias = bias/13.6057, # The applied bias voltage in Ry (1 Ry = 13.6057 eV)\n",
    "            iflag = 3,                  # Output a 3D dataset of integrated local DOS\n",
    "            output_format = 6,          # Output as an cube file\n",
    "            fileout = 'stm_{0}eV.cube'.format(bias)   # Name of the output file\n",
    "            )\n",
    "    # read the cube file and save it to 'datas.pickle', which will be used by the STM method in ASE\n",
    "    ldos, atoms = read_cube_data('surface/graphene/stm_{0}eV.cube'.format(bias))\n",
    "    with open('surface/graphene/stm_{0}.pickle'.format(bias), 'wb') as f:\n",
    "        pickle.dump([ldos, bias, atoms.cell], f)"
   ]
  },
  {
   "cell_type": "code",
   "execution_count": null,
   "metadata": {},
   "outputs": [],
   "source": [
    "from ase.dft.stm import STM\n",
    "from ase.io.cube import read_cube_data\n",
    "import pickle\n",
    "import matplotlib.pyplot as plt\n",
    "\n",
    "bias = 1.0\n",
    "z = 7\n",
    "stm = STM('surface/graphene/stm_{0}.pickle'.format(bias))\n",
    "x, y, I = stm.scan2(bias, z, repeat=(3, 3))\n",
    "\n",
    "plt.figure()\n",
    "plt.gca(aspect='equal')\n",
    "plt.contourf(x, y, I, 40, cmap=plt.cm.bone)\n",
    "plt.colorbar()\n",
    "plt.savefig('images/STM-2d-I-graphene-bias-{0}-z-{1}.png'.format(bias, z))"
   ]
  },
  {
   "cell_type": "code",
   "execution_count": null,
   "metadata": {},
   "outputs": [],
   "source": [
    "z = 7\n",
    "c = stm.get_averaged_current(bias, z)\n",
    "x, y, h = stm.scan(bias, c, repeat=(3, 3))\n",
    "plt.gca(aspect='equal')\n",
    "plt.contourf(x, y, h, 40, cmap=plt.cm.bone, )\n",
    "plt.colorbar()\n",
    "plt.savefig('images/STM-2d-H-graphene-bias-{0}-z-{1}.png'.format(bias, z))\n"
   ]
  },
  {
   "cell_type": "markdown",
   "metadata": {},
   "source": [
    "### 4.2 Band structure of graphene\n",
    "Similar to graphite, here we calculate the band structure of graphene."
   ]
  },
  {
   "cell_type": "code",
   "execution_count": null,
   "metadata": {},
   "outputs": [],
   "source": [
    "import matplotlib.pyplot as plt\n",
    "\n",
    "calc = graphene.calc\n",
    "kpts={'path': 'GMKG', 'npoints': 50}\n",
    "calc.nscf(queue = queue, calculation = 'bands', kpts = kpts)\n",
    "calc.nscf_calculate()\n",
    "calc.read_results()\n",
    "bs = calc.band_structure()\n",
    "bs._reference = fermi\n",
    "bs = bs.subtract_reference()\n",
    "ax = bs.plot(emin = -20, emax=10)\n",
    "plt.savefig('images/graphene-band.png')\n"
   ]
  },
  {
   "cell_type": "markdown",
   "metadata": {},
   "source": [
    "From the band structures of graphite (bulk) and graphene, we get a pretty good idea which bands we will see at a given bias voltage in graphite and graphene. Try to identify the bands as σ or π bands. Discuss profusely with your assistant for this step. "
   ]
  },
  {
   "cell_type": "markdown",
   "metadata": {},
   "source": [
    "### 5. STM Images of O adsorbates on Pt (111)\n",
    "Now go back to your already computed Pt (111) surfaces with adsorbed molecular and atomic oxygen and compute STM images with bias voltages of 0.1 eV, 0.2 eV, 0.5 eV and 1.0 eV. In the figure below, very clever researchers have used voltage pulses of the STM tip (Figure b) to successively manipulate adsorbed O$_2$ molecules. Compare your images with these and try to see if you can match the computed STM images with the experimental ones.\n",
    "<img src=\"images/stm-pt-o.png\"  width=\"500\">\n",
    "\n",
    "Figure 3: STM images of tip-manipulated O$_2$ molecules on a Pt (111) surface. A) shows two O$_2$ molecules adsorbed on fcc sites. Then a voltage pulse (b) is applied with the tip over the right molecule, which leads to its dissociation with one O at a hcp site and one at the fcc site. A second pulse on the left molecule then leads to two additional O at hcp sites. Figure taken from Stipe et al., Phys. Rev. Lett., 78, 4410-4413, (1997)."
   ]
  },
  {
   "cell_type": "markdown",
   "metadata": {},
   "source": [
    "#### 5.1  Dissociative adsorption\n",
    "Here, we calculate the two most stable sites (fcc and hcp) for oxygen atoms. We check the structures from our preivous calculations (Part 3.2)."
   ]
  },
  {
   "cell_type": "code",
   "execution_count": null,
   "metadata": {},
   "outputs": [],
   "source": [
    "site = 'fcc'\n",
    "calc = Espresso(label = 'surface/pt-o-{0}'.format(site))\n",
    "calc.read_results()\n",
    "atoms = calc.results['atoms']\n",
    "view_x3d_n(atoms, bond = 1.0, output = 'htmls/pt-o-{0}-relax.html'.format(site))"
   ]
  },
  {
   "cell_type": "code",
   "execution_count": null,
   "metadata": {},
   "outputs": [],
   "source": [
    "# we only need read data from previous calculation.\n",
    "for site in ['fcc', 'hcp']:\n",
    "    calc = Espresso(label = 'surface/pt-o-{0}'.format(site))\n",
    "#     for bias in [0.1]:\n",
    "    for bias in [0.1, 0.2, 0.5, 1.0]:\n",
    "        calc.post(queue = queue, \n",
    "            package='pp', \n",
    "            plot_num = 5,               # Compute a STM dataset\n",
    "            sample_bias = bias/13.6057, # The applied bias voltage in Ry (1 Ry = 13.6057 eV)\n",
    "            iflag = 3,                  # Output a 3D dataset of integrated local DOS\n",
    "            output_format = 6,          # Output as an cube file\n",
    "            fileout = 'stm_{0}eV.cube'.format(bias)   # Name of the output file\n",
    "            )\n",
    "        # read the cube file and save it to 'datas.pickle', which will be used by the STM method in ASE\n",
    "        ldos, atoms = read_cube_data('surface/pt-o-{0}/stm_{1}eV.cube'.format(site, bias))\n",
    "        with open('surface/pt-o-{0}/stm_{1}.pickle'.format(site, bias), 'wb') as f:\n",
    "            pickle.dump([ldos, bias, atoms.cell], f)\n",
    "\n"
   ]
  },
  {
   "cell_type": "markdown",
   "metadata": {},
   "source": [
    "Then we calculate the STM images in “constant-current” mode, and compare with experimental images."
   ]
  },
  {
   "cell_type": "code",
   "execution_count": null,
   "metadata": {},
   "outputs": [],
   "source": [
    "from ase.dft.stm import STM\n",
    "from ase.io.cube import read_cube_data\n",
    "import pickle\n",
    "import matplotlib.pyplot as plt\n",
    "\n",
    "z = 13.0\n",
    "\n",
    "for site in ['fcc', 'hcp']:\n",
    "    for bias in [0.1, 0.5, 1.0]:\n",
    "        stm = STM('surface/pt-o-{0}/stm_{1}.pickle'.format(site, bias))\n",
    "        c = stm.get_averaged_current(bias, z)\n",
    "#         c = 0.0001\n",
    "        x, y, h = stm.scan(bias, c, repeat=(3, 3))\n",
    "        h[h<12.5] = 12.5\n",
    "        plt.figure()\n",
    "        plt.gca(aspect='equal')\n",
    "        plt.contourf(x, y, h, 40, cmap=plt.cm.bone, )\n",
    "        plt.colorbar()\n",
    "        plt.savefig('images/STM-2d-H-pt-o-{0}-bias-{1}-z-{2}.png'.format(site, bias, z))\n"
   ]
  },
  {
   "cell_type": "markdown",
   "metadata": {},
   "source": [
    "#### 5.2 Molecular adsorption\n",
    "Here, we calculate the two most stable sites (top-top and top-fcc) for oxygen molecular adsorption. We check the structures from our preivous calculations (Part 3.3)."
   ]
  },
  {
   "cell_type": "code",
   "execution_count": null,
   "metadata": {},
   "outputs": [],
   "source": [
    "site = 'top-top'\n",
    "calc = Espresso(label = 'surface/pt-o2-{0}'.format(site))\n",
    "calc.read_results()\n",
    "atoms = calc.results['atoms']\n",
    "view_x3d_n(atoms, bond = 1.0, output = 'htmls/pt-o2-{0}-relax.html'.format(site))"
   ]
  },
  {
   "cell_type": "code",
   "execution_count": null,
   "metadata": {},
   "outputs": [],
   "source": [
    "# we only need read data from previous calculation.\n",
    "for site in ['top-top', 'top-fcc']:\n",
    "    calc = Espresso(label = 'surface/pt-o2-{0}'.format(site))\n",
    "#     for bias in [0.1]:\n",
    "    for bias in [0.1, 0.2, 0.5, 1.0]:\n",
    "        calc.post(queue = queue, \n",
    "            package='pp', \n",
    "            plot_num = 5,               # Compute a STM dataset\n",
    "            sample_bias = bias/13.6057, # The applied bias voltage in Ry (1 Ry = 13.6057 eV)\n",
    "            iflag = 3,                  # Output a 3D dataset of integrated local DOS\n",
    "            output_format = 6,          # Output as an cube file\n",
    "            fileout = 'stm_{0}eV.cube'.format(bias)   # Name of the output file\n",
    "            )\n",
    "        # read the cube file and save it to 'datas.pickle', which will be used by the STM method in ASE\n",
    "        ldos, atoms = read_cube_data('surface/pt-o2-{0}/stm_{1}eV.cube'.format(site, bias))\n",
    "        with open('surface/pt-o2-{0}/stm_{1}.pickle'.format(site, bias), 'wb') as f:\n",
    "            pickle.dump([ldos, bias, atoms.cell], f)\n",
    "\n"
   ]
  },
  {
   "cell_type": "markdown",
   "metadata": {},
   "source": [
    "Then we calculate the STM images in “constant-current” mode, and compare with experimental images."
   ]
  },
  {
   "cell_type": "code",
   "execution_count": null,
   "metadata": {},
   "outputs": [],
   "source": [
    "from ase.dft.stm import STM\n",
    "from ase.io.cube import read_cube_data\n",
    "import pickle\n",
    "import matplotlib.pyplot as plt\n",
    "\n",
    "z = 13.0\n",
    "\n",
    "for site in ['top-top', 'top-fcc']:\n",
    "    for bias in [0.1, 0.5, 1.0]:\n",
    "        stm = STM('surface/pt-o2-{0}/stm_{1}.pickle'.format(site, bias))\n",
    "        c = stm.get_averaged_current(bias, z)\n",
    "#         c = 0.0001\n",
    "        x, y, h = stm.scan(bias, c, repeat=(3, 3))\n",
    "        h[h<12.5] = 12.5\n",
    "        plt.figure()\n",
    "        plt.gca(aspect='equal')\n",
    "        plt.contourf(x, y, h, 40, cmap=plt.cm.bone, )\n",
    "        plt.colorbar()\n",
    "        plt.savefig('images/STM-2d-H-pt-o2-{0}-bias-{1}-z-{2}.png'.format(site, bias, z))\n"
   ]
  },
  {
   "cell_type": "markdown",
   "metadata": {},
   "source": [
    "### 6. Conclusion\n",
    "Comment on the usefulness of density functional calculations in interpreting surface science results. What can we test in a computer that experiment cannot easily do? Again, discuss this\n",
    "with your assistant."
   ]
  },
  {
   "cell_type": "code",
   "execution_count": null,
   "metadata": {},
   "outputs": [],
   "source": []
  }
 ],
 "metadata": {
  "kernelspec": {
   "display_name": "Python 3",
   "language": "python",
   "name": "python3"
  },
  "language_info": {
   "codemirror_mode": {
    "name": "ipython",
    "version": 3
   },
   "file_extension": ".py",
   "mimetype": "text/x-python",
   "name": "python",
   "nbconvert_exporter": "python",
   "pygments_lexer": "ipython3",
   "version": "3.7.6"
  }
 },
 "nbformat": 4,
 "nbformat_minor": 4
}
